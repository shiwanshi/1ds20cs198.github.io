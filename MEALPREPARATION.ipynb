{
  "nbformat": 4,
  "nbformat_minor": 0,
  "metadata": {
    "colab": {
      "provenance": [],
      "authorship_tag": "ABX9TyPwMhzVSroLA1zNJKVwYdvj",
      "include_colab_link": true
    },
    "kernelspec": {
      "name": "python3",
      "display_name": "Python 3"
    },
    "language_info": {
      "name": "python"
    }
  },
  "cells": [
    {
      "cell_type": "markdown",
      "metadata": {
        "id": "view-in-github",
        "colab_type": "text"
      },
      "source": [
        "<a href=\"https://colab.research.google.com/github/shiwanshi/1ds20cs198.github.io/blob/main/MEALPREPARATION.ipynb\" target=\"_parent\"><img src=\"https://colab.research.google.com/assets/colab-badge.svg\" alt=\"Open In Colab\"/></a>"
      ]
    },
    {
      "cell_type": "code",
      "execution_count": null,
      "metadata": {
        "colab": {
          "base_uri": "https://localhost:8080/"
        },
        "id": "R2irC4ennLNy",
        "outputId": "c81bc63f-37a2-494a-ec97-e7a9300ffc38"
      },
      "outputs": [
        {
          "output_type": "stream",
          "name": "stdout",
          "text": [
            "Looking in indexes: https://pypi.org/simple, https://us-python.pkg.dev/colab-wheels/public/simple/\n",
            "Requirement already satisfied: pandas in /usr/local/lib/python3.10/dist-packages (1.5.3)\n",
            "Requirement already satisfied: python-dateutil>=2.8.1 in /usr/local/lib/python3.10/dist-packages (from pandas) (2.8.2)\n",
            "Requirement already satisfied: pytz>=2020.1 in /usr/local/lib/python3.10/dist-packages (from pandas) (2022.7.1)\n",
            "Requirement already satisfied: numpy>=1.21.0 in /usr/local/lib/python3.10/dist-packages (from pandas) (1.22.4)\n",
            "Requirement already satisfied: six>=1.5 in /usr/local/lib/python3.10/dist-packages (from python-dateutil>=2.8.1->pandas) (1.16.0)\n"
          ]
        }
      ],
      "source": [
        "!pip install pandas"
      ]
    },
    {
      "cell_type": "code",
      "source": [
        "import pandas as pd\n",
        "\n",
        "recipes_df = pd.read_csv(r\"/content/recipes.csv\")\n",
        "\n",
        "# Preprocess the data (remove leading/trailing spaces and convert to lowercase)\n",
        "recipes_df['Recipe'] = recipes_df['Recipe'].str.strip().str.lower()\n",
        "recipes_df['Ingredients'] = recipes_df['Ingredients'].str.strip().str.lower()"
      ],
      "metadata": {
        "id": "jsAfney-ne7n"
      },
      "execution_count": null,
      "outputs": []
    },
    {
      "cell_type": "code",
      "source": [
        "# Prompt the user to input the available ingredients\n",
        "available_ingredients = input(\"Enter the available ingredients (separated by commas): \").lower().split(',')\n"
      ],
      "metadata": {
        "colab": {
          "base_uri": "https://localhost:8080/"
        },
        "id": "_8eDa4CJnlkF",
        "outputId": "81385446-f421-4e98-c680-66415f881169"
      },
      "execution_count": null,
      "outputs": [
        {
          "name": "stdout",
          "output_type": "stream",
          "text": [
            "Enter the available ingredients (separated by commas): onion\n"
          ]
        }
      ]
    },
    {
      "cell_type": "code",
      "source": [
        "# Calculate the similarity between available ingredients and required ingredients for each recipe\n",
        "recipes_df['MatchScore'] = recipes_df['Ingredients'].apply(lambda x: sum(ingredient in x for ingredient in available_ingredients))\n",
        "\n",
        "# Sort the recipes based on the match score in descending order\n",
        "matched_recipes = recipes_df.sort_values('MatchScore', ascending=False)"
      ],
      "metadata": {
        "id": "yfsqQamknrZQ"
      },
      "execution_count": null,
      "outputs": []
    },
    {
      "cell_type": "code",
      "source": [
        "# Display the suggested recipes\n",
        "i=1\n",
        "for index, recipe in matched_recipes.iterrows():\n",
        "    print(\"Priority Number \", i)\n",
        "    print(f\"Recipe: {recipe['Recipe']}\")\n",
        "    print(f\"Ingredients: {recipe['Ingredients']}\")\n",
        "    print()\n",
        "    i=i+1\n"
      ],
      "metadata": {
        "id": "EEh6QkStnwfo",
        "outputId": "c7e98de1-84d4-48a7-db69-832ac4d33c7b",
        "colab": {
          "base_uri": "https://localhost:8080/"
        }
      },
      "execution_count": null,
      "outputs": [
        {
          "output_type": "stream",
          "name": "stdout",
          "text": [
            "Priority Number  1\n",
            "Recipe: sphagetti\n",
            "Ingredients: sphagetti,tomato,onion,cheese,sauce\n",
            "\n",
            "Priority Number  2\n",
            "Recipe: chicken tikka\n",
            "Ingredients: chicken,onion,garlic\n",
            "\n",
            "Priority Number  3\n",
            "Recipe: salad\n",
            "Ingredients: cucumber,tomato,onion,cheese\n",
            "\n",
            "Priority Number  4\n",
            "Recipe: fried rice\n",
            "Ingredients: rice,oil,soy sauce,onion,vinegar\n",
            "\n",
            "Priority Number  5\n",
            "Recipe: omelette\n",
            "Ingredients: egg,onion,oil,salt,pepper\n",
            "\n",
            "Priority Number  6\n",
            "Recipe: roti\n",
            "Ingredients: flour\n",
            "\n"
          ]
        }
      ]
    }
  ]
}